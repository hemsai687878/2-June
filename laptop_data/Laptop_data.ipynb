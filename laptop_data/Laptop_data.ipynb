{
 "cells": [
  {
   "cell_type": "code",
   "execution_count": 1,
   "id": "3a4383b7",
   "metadata": {},
   "outputs": [],
   "source": [
    "import pandas as pd\n",
    "import numpy as np\n",
    "import matplotlib.pyplot as plt\n",
    "import seaborn as sns\n",
    "import joblib"
   ]
  },
  {
   "cell_type": "code",
   "execution_count": 2,
   "id": "32991f1c",
   "metadata": {},
   "outputs": [],
   "source": [
    "from sklearn.model_selection import train_test_split\n",
    "from sklearn.preprocessing import LabelEncoder, StandardScaler\n",
    "from sklearn.ensemble import RandomForestClassifier, RandomForestRegressor, VotingClassifier, StackingClassifier\n",
    "from sklearn.linear_model import LogisticRegression\n",
    "from sklearn.svm import SVC\n",
    "from sklearn.metrics import accuracy_score, mean_squared_error"
   ]
  },
  {
   "cell_type": "code",
   "execution_count": 3,
   "id": "c42baaf8",
   "metadata": {},
   "outputs": [],
   "source": [
    "df = pd.read_csv(\"laptop_data_cleaned.csv\")"
   ]
  },
  {
   "cell_type": "code",
   "execution_count": 4,
   "id": "35cab0c0",
   "metadata": {},
   "outputs": [
    {
     "name": "stdout",
     "output_type": "stream",
     "text": [
      "<class 'pandas.core.frame.DataFrame'>\n",
      "RangeIndex: 1273 entries, 0 to 1272\n",
      "Data columns (total 13 columns):\n",
      " #   Column       Non-Null Count  Dtype  \n",
      "---  ------       --------------  -----  \n",
      " 0   Company      1273 non-null   object \n",
      " 1   TypeName     1273 non-null   object \n",
      " 2   Ram          1273 non-null   int64  \n",
      " 3   Weight       1273 non-null   float64\n",
      " 4   Price        1273 non-null   float64\n",
      " 5   TouchScreen  1273 non-null   int64  \n",
      " 6   Ips          1273 non-null   int64  \n",
      " 7   Ppi          1273 non-null   float64\n",
      " 8   Cpu_brand    1273 non-null   object \n",
      " 9   HDD          1273 non-null   int64  \n",
      " 10  SSD          1273 non-null   int64  \n",
      " 11  Gpu_brand    1273 non-null   object \n",
      " 12  Os           1273 non-null   object \n",
      "dtypes: float64(3), int64(5), object(5)\n",
      "memory usage: 129.4+ KB\n",
      "None\n"
     ]
    }
   ],
   "source": [
    "print(df.info())"
   ]
  },
  {
   "cell_type": "code",
   "execution_count": 5,
   "id": "81039114",
   "metadata": {},
   "outputs": [
    {
     "name": "stdout",
     "output_type": "stream",
     "text": [
      "               Ram       Weight        Price  TouchScreen          Ips  \\\n",
      "count  1273.000000  1273.000000  1273.000000  1273.000000  1273.000000   \n",
      "mean      8.447761     2.041100    10.828218     0.146897     0.279654   \n",
      "std       5.098771     0.669241     0.619565     0.354142     0.449006   \n",
      "min       2.000000     0.690000     9.134616     0.000000     0.000000   \n",
      "25%       4.000000     1.500000    10.387379     0.000000     0.000000   \n",
      "50%       8.000000     2.040000    10.872255     0.000000     0.000000   \n",
      "75%       8.000000     2.310000    11.287447     0.000000     1.000000   \n",
      "max      64.000000     4.700000    12.691441     1.000000     1.000000   \n",
      "\n",
      "               Ppi          HDD          SSD  \n",
      "count  1273.000000  1273.000000  1273.000000  \n",
      "mean    146.950812   413.715632   186.252946  \n",
      "std      42.926775   518.054486   186.531571  \n",
      "min      90.583402     0.000000     0.000000  \n",
      "25%     127.335675     0.000000     0.000000  \n",
      "50%     141.211998     0.000000   256.000000  \n",
      "75%     157.350512  1000.000000   256.000000  \n",
      "max     352.465147  2000.000000  1024.000000  \n"
     ]
    }
   ],
   "source": [
    "print(df.describe())"
   ]
  },
  {
   "cell_type": "code",
   "execution_count": 6,
   "id": "5f8b36b1",
   "metadata": {},
   "outputs": [
    {
     "name": "stdout",
     "output_type": "stream",
     "text": [
      "Company        0\n",
      "TypeName       0\n",
      "Ram            0\n",
      "Weight         0\n",
      "Price          0\n",
      "TouchScreen    0\n",
      "Ips            0\n",
      "Ppi            0\n",
      "Cpu_brand      0\n",
      "HDD            0\n",
      "SSD            0\n",
      "Gpu_brand      0\n",
      "Os             0\n",
      "dtype: int64\n"
     ]
    }
   ],
   "source": [
    "print(df.isnull().sum())"
   ]
  },
  {
   "cell_type": "code",
   "execution_count": 7,
   "id": "9bc59726",
   "metadata": {},
   "outputs": [],
   "source": [
    "df.dropna(inplace=True)"
   ]
  },
  {
   "cell_type": "code",
   "execution_count": 8,
   "id": "6ca71488",
   "metadata": {},
   "outputs": [],
   "source": [
    "le = LabelEncoder()\n",
    "cat_cols = ['Company', 'TypeName', 'TouchScreen', 'Ips', 'Cpu_brand', 'Gpu_brand', 'Os']\n",
    "for col in cat_cols:\n",
    "    df[col] = le.fit_transform(df[col])\n"
   ]
  },
  {
   "cell_type": "code",
   "execution_count": 9,
   "id": "0534493f",
   "metadata": {},
   "outputs": [],
   "source": [
    "X = df.drop('Price', axis=1)\n",
    "y_classification = pd.qcut(df['Price'], q=2, labels=[0, 1])  # For binary classification\n",
    "y_regression = df['Price']"
   ]
  },
  {
   "cell_type": "code",
   "execution_count": 10,
   "id": "2e0f3117",
   "metadata": {},
   "outputs": [],
   "source": [
    "scaler = StandardScaler()\n",
    "X_scaled = scaler.fit_transform(X)\n"
   ]
  },
  {
   "cell_type": "code",
   "execution_count": 11,
   "id": "09737211",
   "metadata": {},
   "outputs": [],
   "source": [
    "X_train_c, X_test_c, y_train_c, y_test_c = train_test_split(X_scaled, y_classification, test_size=0.2, random_state=42)\n",
    "X_train_r, X_test_r, y_train_r, y_test_r = train_test_split(X_scaled, y_regression, test_size=0.2, random_state=42)\n"
   ]
  },
  {
   "cell_type": "code",
   "execution_count": 12,
   "id": "85c2a3d3",
   "metadata": {},
   "outputs": [
    {
     "name": "stdout",
     "output_type": "stream",
     "text": [
      "RandomForestClassifier Accuracy: 0.8823529411764706\n"
     ]
    }
   ],
   "source": [
    "rf_clf = RandomForestClassifier(n_estimators=100, random_state=42)\n",
    "rf_clf.fit(X_train_c, y_train_c)\n",
    "y_pred_rf_clf = rf_clf.predict(X_test_c)\n",
    "print(\"RandomForestClassifier Accuracy:\", accuracy_score(y_test_c, y_pred_rf_clf))"
   ]
  },
  {
   "cell_type": "code",
   "execution_count": 13,
   "id": "1997973f",
   "metadata": {},
   "outputs": [
    {
     "name": "stdout",
     "output_type": "stream",
     "text": [
      "VotingClassifier Accuracy: 0.8666666666666667\n"
     ]
    }
   ],
   "source": [
    "log_clf = LogisticRegression()\n",
    "svc_clf = SVC(probability=True)\n",
    "voting_clf = VotingClassifier(estimators=[('lr', log_clf), ('svc', svc_clf), ('rf', rf_clf)], voting='soft')\n",
    "voting_clf.fit(X_train_c, y_train_c)\n",
    "y_pred_vote = voting_clf.predict(X_test_c)\n",
    "print(\"VotingClassifier Accuracy:\", accuracy_score(y_test_c, y_pred_vote))"
   ]
  },
  {
   "cell_type": "code",
   "execution_count": 14,
   "id": "1e4a1e43",
   "metadata": {},
   "outputs": [
    {
     "name": "stdout",
     "output_type": "stream",
     "text": [
      "StackingClassifier Accuracy: 0.8509803921568627\n"
     ]
    }
   ],
   "source": [
    "stacking_clf = StackingClassifier(estimators=[('lr', log_clf), ('svc', svc_clf)], final_estimator=RandomForestClassifier())\n",
    "stacking_clf.fit(X_train_c, y_train_c)\n",
    "y_pred_stack = stacking_clf.predict(X_test_c)\n",
    "print(\"StackingClassifier Accuracy:\", accuracy_score(y_test_c, y_pred_stack))"
   ]
  },
  {
   "cell_type": "code",
   "execution_count": 15,
   "id": "bbff6421",
   "metadata": {},
   "outputs": [
    {
     "name": "stdout",
     "output_type": "stream",
     "text": [
      "RandomForestRegressor RMSE: 0.21887999083591494\n"
     ]
    }
   ],
   "source": [
    "rf_reg = RandomForestRegressor(n_estimators=100, random_state=42)\n",
    "rf_reg.fit(X_train_r, y_train_r)\n",
    "y_pred_rf_reg = rf_reg.predict(X_test_r)\n",
    "print(\"RandomForestRegressor RMSE:\", np.sqrt(mean_squared_error(y_test_r, y_pred_rf_reg)))"
   ]
  },
  {
   "cell_type": "code",
   "execution_count": 16,
   "id": "dff5e29f",
   "metadata": {},
   "outputs": [
    {
     "data": {
      "text/plain": [
       "['stacking_classifier.pkl']"
      ]
     },
     "execution_count": 16,
     "metadata": {},
     "output_type": "execute_result"
    }
   ],
   "source": [
    "joblib.dump(rf_clf, 'random_forest_classifier.pkl')\n",
    "joblib.dump(rf_reg, 'random_forest_regressor.pkl')\n",
    "joblib.dump(voting_clf, 'voting_classifier.pkl')\n",
    "joblib.dump(stacking_clf, 'stacking_classifier.pkl')"
   ]
  }
 ],
 "metadata": {
  "kernelspec": {
   "display_name": "Python 3",
   "language": "python",
   "name": "python3"
  },
  "language_info": {
   "codemirror_mode": {
    "name": "ipython",
    "version": 3
   },
   "file_extension": ".py",
   "mimetype": "text/x-python",
   "name": "python",
   "nbconvert_exporter": "python",
   "pygments_lexer": "ipython3",
   "version": "3.11.5"
  }
 },
 "nbformat": 4,
 "nbformat_minor": 5
}
