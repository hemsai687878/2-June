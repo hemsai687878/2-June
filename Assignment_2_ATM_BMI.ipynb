{
 "cells": [
  {
   "cell_type": "code",
   "execution_count": 7,
   "metadata": {
    "colab": {
     "base_uri": "https://localhost:8080/"
    },
    "id": "VHL5XWkuCxKK",
    "outputId": "d5f31356-33b7-417f-ffed-b4cc6f22a45f"
   },
   "outputs": [
    {
     "name": "stdout",
     "output_type": "stream",
     "text": [
      "Requirement already satisfied: simple_colors in c:\\users\\hp\\anaconda3\\lib\\site-packages (0.1.5)Note: you may need to restart the kernel to use updated packages.\n",
      "\n"
     ]
    },
    {
     "name": "stderr",
     "output_type": "stream",
     "text": [
      "\n",
      "[notice] A new release of pip is available: 25.0.1 -> 25.1.1\n",
      "[notice] To update, run: python.exe -m pip install --upgrade pip\n"
     ]
    }
   ],
   "source": [
    "pip install simple_colors"
   ]
  },
  {
   "cell_type": "code",
   "execution_count": 8,
   "metadata": {
    "id": "n2927V-8C3cE"
   },
   "outputs": [],
   "source": [
    "import simple_colors as color"
   ]
  },
  {
   "cell_type": "markdown",
   "metadata": {},
   "source": [
    "## ATM Simulation Project "
   ]
  },
  {
   "cell_type": "code",
   "execution_count": null,
   "metadata": {
    "colab": {
     "base_uri": "https://localhost:8080/"
    },
    "id": "5veI892EBhR4",
    "outputId": "b77ca2d5-8a60-4a20-e448-04e4edb8ba52"
   },
   "outputs": [
    {
     "name": "stdout",
     "output_type": "stream",
     "text": [
      "\u001b[1;4;31mLogin page\u001b[0m\n",
      "username :tejas jain\n",
      "password :··········\n",
      "\u001b[1;31mlogin successfull\u001b[0m\n",
      "\u001b[34myour OTP is : 123456\u001b[0m\n",
      "otp :123456\n",
      "\u001b[1;31mproceed\u001b[0m\n",
      "\u001b[34mcaptcha : nNEW4a\u001b[0m\n",
      "captcha :nNEW4a\n",
      "\u001b[31mwelcome to your bank account \u001b[0m\n",
      "\u001b[1;31mproceeding to OPTIONS\u001b[0m\n",
      "\u001b[1;32m    \n",
      "                                 OPTIONS\n",
      "                             -----------------\n",
      "                             1. all options of ATM\n",
      "                             2. Details\n",
      "                             3. Add New Account\n",
      "                             4. Modify \u001b[0m\n",
      "enter your choice fromm the OPTIONS (from 1..4) :1\n",
      "\u001b[36m  \n",
      "                                all options of ATM ->\n",
      "                             ---------------------------\n",
      "                             0. Logout and Exit\n",
      "                             1. View account Balance\n",
      "                             2. withdraw cash\n",
      "                             3. return card\u001b[0m\n",
      "enter number to proceed >3\n",
      "Please enter your 4-digit PIN > 9876\n",
      "\u001b[32mAccount auhtorized!\n",
      "\u001b[0m\n",
      "loading card return...\n",
      "returning your ATM card\n",
      "confirm - Y/N ->y\n",
      "\u001b[1;32mcard returned successfully!\u001b[0m\n",
      "\u001b[34mThanks for visiting :)\u001b[0m\n"
     ]
    }
   ],
   "source": [
    "#login page\n",
    "from getpass import getpass\n",
    "print(color.red(\"Login page\",['bold','underlined']))\n",
    "username = \"tejas jain\"\n",
    "password = \"pass\"\n",
    "un=input(\"username :\")\n",
    "pw=getpass(\"password :\")\n",
    "if un==username :\n",
    "  if pw==password:\n",
    "    print(color.red(\"login successfull\",'bold'))\n",
    "    print(color.blue(\"your OTP is : 123456\"))\n",
    "    otp =int(input(\"otp :\"))\n",
    "    if otp==123456 :\n",
    "      print(color.red(\"proceed\",'bold'))\n",
    "      print(color.blue(\"captcha : nNEW4a\"))\n",
    "      captcha =input(\"captcha :\")\n",
    "      if captcha==\"nNEW4a\" :\n",
    "        print(color.red(\"welcome to your bank account \"))\n",
    "        print(color.red(\"proceeding to OPTIONS\",'bold'))\n",
    "        user_pin= 9876\n",
    "        user_balance= 97432.50\n",
    "        print(color.green('''\n",
    "                                 OPTIONS\n",
    "                             -----------------\n",
    "                             1. all options of ATM\n",
    "                             2. Details\n",
    "                             3. Add New Account\n",
    "                             4. Modify ''','bold'))\n",
    "        choice =int(input(\"enter your choice fromm the OPTIONS (from 1..4) :\"))\n",
    "        if choice==1 :\n",
    "          user_pin= 9876\n",
    "          user_balance= 97432.50\n",
    "          print(color.cyan('''\n",
    "                                all options of ATM ->\n",
    "                             ---------------------------\n",
    "                             0. Logout and Exit\n",
    "                             1. View account Balance\n",
    "                             2. withdraw cash\n",
    "                             3. return card'''))\n",
    "          choice = int(input(\"enter number to proceed >\" ))\n",
    "          if choice==0 :\n",
    "            print(\"exiting...\")\n",
    "            print(color.red(\"you have logged out . Thank You!\\n\"))\n",
    "          elif choice in (1,2,3) :\n",
    "              input_pin = int(input(\"Please enter your 4-digit PIN > \"))\n",
    "              if input_pin == user_pin:\n",
    "                print(color.green(\"Account auhtorized!\\n\"))\n",
    "                if choice==1 :\n",
    "                  print(color.red(\"Loading Account Balance...\"))\n",
    "                  print(\"Your current balance is Rs.\", user_balance)\n",
    "                  print(color.blue(\"Thanks for visiting :)\"))\n",
    "                elif choice==2 :\n",
    "                  print(color.yellow(\"Opening cash withdrawl...\"))\n",
    "                  withdraw_amt = float(input(\"Enter the amount you wish to withdraw > \"))\n",
    "                  if withdraw_amt>user_balance :\n",
    "                    print(\"can't withdraw Rs.\",withdraw_amt)\n",
    "                    print(color.red(\"please enter a lower amount!\"))\n",
    "                    print(color.blue(\"Thanks for visiting :)\"))\n",
    "                  else :\n",
    "                    print(\"withdrawing Rs.\", withdraw_amt)\n",
    "                    confirm = input(\"confirm - Y/N ->\")\n",
    "                    if confirm in ('Y','y'):\n",
    "                      user_balance-=withdraw_amt\n",
    "                      print(\"Amount withdrawnm - Rs.\", withdraw_amt)\n",
    "                      print(\"remaining balance - Rs.\", user_balance)\n",
    "                      print(color.blue(\"Thanks for visiting :)\"))\n",
    "                    else :\n",
    "                      print(color.red(\"cancelling transaction...\"))\n",
    "                      print(color.red(\"transaction cancelled!\"))\n",
    "                      print(color.blue(\"Thanks for visiting :)\"))\n",
    "                else:\n",
    "                  print(\"loading card return...\")\n",
    "                  print(\"returning your ATM card\")\n",
    "                  confirm = input(\"confirm - Y/N ->\")\n",
    "                  if confirm in ('Y','y'):\n",
    "                    print(color.green(\"card returned successfully!\",'bold'))\n",
    "                    print(color.blue(\"Thanks for visiting :)\"))\n",
    "              else :\n",
    "                print(color.red(\"invalid user_pin\"))\n",
    "                print(color.blue(\"Thanks for visiting :)\"))\n",
    "\n",
    "        elif choice in (2,3,4) :\n",
    "          pw=getpass(\"password :\")\n",
    "          if pw==password :\n",
    "            if choice==2 :\n",
    "              print(color.yellow(\"Details:\"))\n",
    "              print(color.green('''\n",
    "                                  your details are:\n",
    "                                ---------------------\n",
    "                                name      : tejas jain\n",
    "                                age       : 20\n",
    "                                mobile_no : 6375828631\n",
    "                                s/o       : arun jain\n",
    "                                address   : 3/444 malviya nagar , jaipur\n",
    "                                AC/no     : 34xxxxxxxx54'''))\n",
    "              print(color.blue(\"Thanks for visiting :)\"))\n",
    "            elif choice==3 :\n",
    "              print(color.yellow(\"Add New Account\"))\n",
    "              print(color.green(\"New Account\\n-------------------------\"))\n",
    "              name = input(\"name      : \")\n",
    "              age = int(input(\"age       : \"))\n",
    "              mobile_no = int(input(\"mobile_no : \"))\n",
    "              s_o = input(\"s/o       : \")\n",
    "              address = input(\"address   : \")\n",
    "              AC_no = int(input(\"AC/no     : 34xxxxxxxx\"))\n",
    "              print(color.blue(\"Thanks for visiting :)\"))\n",
    "            else :\n",
    "              print(color.yellow(\"specify the detail you want to modify :\"))\n",
    "              specify = input(\"\\b\")\n",
    "              orignal_d = input(\"current detail :\")\n",
    "              new_d = input(\"new detail :\")\n",
    "              print(color.green(\"details will be modified within 2 days . \\nyou will be notified via e_mail\"))\n",
    "              print(color.blue(\"Thanks for visiting :)\"))\n",
    "\n",
    "          else :\n",
    "            print(color.red(\"invalid password\"))\n",
    "            print(color.blue(\"Thanks for visiting :)\"))\n",
    "\n",
    "      else :\n",
    "        print(color.red(\"invalid input\"))\n",
    "        print(color.blue(\"Thanks for visiting :)\"))\n",
    "    else :\n",
    "      print(color.red(\"invalid otp\"))\n",
    "      print(color.blue(\"Thanks for visiting :)\"))\n",
    "  else :\n",
    "    print(color.red(\"incorrect username or password\"))\n",
    "    print(color.blue(\"Thanks for visiting :)\"))"
   ]
  },
  {
   "cell_type": "markdown",
   "metadata": {},
   "source": [
    "## The BMI (Body Mass Index) Calculator "
   ]
  },
  {
   "cell_type": "code",
   "execution_count": 19,
   "metadata": {
    "colab": {
     "base_uri": "https://localhost:8080/"
    },
    "id": "PO2-QMa8GT6-",
    "outputId": "7e603b4e-c00a-4d5c-b400-3441eccc2748"
   },
   "outputs": [
    {
     "name": "stdin",
     "output_type": "stream",
     "text": [
      "Enter weight (in Kg):  80\n",
      "Enter height (in centimeters):  250\n"
     ]
    },
    {
     "name": "stdout",
     "output_type": "stream",
     "text": [
      "\u001b[36mYour BMI is 12.80\u001b[0m\n",
      "\u001b[31mCategory: Underweight\u001b[0m\n",
      "\u001b[34mHealth Tip: Try to include more nutritious, calorie-dense foods in your diet.\u001b[0m\n"
     ]
    }
   ],
   "source": [
    "def calculate_bmi(weight, height_cm):\n",
    "    if weight <= 0 or height_cm <= 0:\n",
    "        return \"Invalid weight or height. Please make sure to use positive values.\"\n",
    "    height_m = height_cm / 100  # Convert cm to meters\n",
    "    bmi = weight / (height_m ** 2)\n",
    "    return bmi\n",
    "\n",
    "weight = int(input(\"Enter weight (in Kg): \"))\n",
    "height_cm = float(input(\"Enter height (in centimeters): \"))\n",
    "bmi = calculate_bmi(weight, height_cm)\n",
    "\n",
    "if isinstance(bmi, str):\n",
    "    print(bmi)\n",
    "else:\n",
    "    print(color.cyan(f\"Your BMI is {bmi:.2f}\"))\n",
    "\n",
    "    if bmi < 18.5:\n",
    "        print(color.red(\"Category: Underweight\"))\n",
    "        print(color.blue(\"Health Tip: Try to include more nutritious, calorie-dense foods in your diet.\"))\n",
    "    elif 18.5 <= bmi < 24.9:\n",
    "        print(color.green(\"Category: Normal weight\"))\n",
    "        print(color.blue(\"Health Tip: Great job! Maintain your healthy lifestyle with balanced diet and exercise.\"))\n",
    "    elif 25 <= bmi < 29.9:\n",
    "        print(color.red(\"Category: Overweight\"))\n",
    "        print(color.blue(\"Health Tip: Consider moderate exercise and dietary adjustments.\"))\n",
    "    else:\n",
    "        print(color.red(\"Category: Obese\"))\n",
    "        print(color.blue(\"Health Tip: It may help to consult a healthcare professional for weight management.\"))\n"
   ]
  },
  {
   "cell_type": "code",
   "execution_count": null,
   "metadata": {
    "id": "IyEV2YWJz3CQ"
   },
   "outputs": [],
   "source": []
  }
 ],
 "metadata": {
  "colab": {
   "provenance": []
  },
  "kernelspec": {
   "display_name": "Python 3 (ipykernel)",
   "language": "python",
   "name": "python3"
  },
  "language_info": {
   "codemirror_mode": {
    "name": "ipython",
    "version": 3
   },
   "file_extension": ".py",
   "mimetype": "text/x-python",
   "name": "python",
   "nbconvert_exporter": "python",
   "pygments_lexer": "ipython3",
   "version": "3.12.4"
  }
 },
 "nbformat": 4,
 "nbformat_minor": 4
}
