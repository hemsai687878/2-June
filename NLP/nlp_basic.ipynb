{
 "cells": [
  {
   "cell_type": "markdown",
   "id": "d53d034c",
   "metadata": {},
   "source": [
    " ## Text Preprocessing"
   ]
  },
  {
   "cell_type": "code",
   "execution_count": 37,
   "id": "6ead51af",
   "metadata": {},
   "outputs": [
    {
     "name": "stdout",
     "output_type": "stream",
     "text": [
      "hello, wellcome to upflairs\n"
     ]
    }
   ],
   "source": [
    "###  case fold\n",
    "text = \"Hello, Wellcome to Upflairs\"\n",
    "text =text.casefold()\n",
    "print(text)"
   ]
  },
  {
   "cell_type": "code",
   "execution_count": 38,
   "id": "fee7cd85",
   "metadata": {},
   "outputs": [
    {
     "data": {
      "text/plain": [
       "'hello, wellcome to upflairs'"
      ]
     },
     "execution_count": 38,
     "metadata": {},
     "output_type": "execute_result"
    }
   ],
   "source": [
    "text = \"Hello, Wellcome to Upflairs\"\n",
    "text.lower()"
   ]
  },
  {
   "cell_type": "code",
   "execution_count": 39,
   "id": "325da49a",
   "metadata": {},
   "outputs": [],
   "source": [
    "import re \n",
    "## a regular expression is a string that contains a sequence of characters that specifies a search pattern.\n",
    "# re.search(pattern, string, flags=0)\n",
    "\n",
    "# A RegEx, or Regular Expression, is a sequence of characters that forms a search pattern.\n",
    "\n",
    "# RegEx can be used to check if a string contains the specified search pattern.\n",
    "\n",
    "# RegEx Module\n",
    "# Python has a built-in package called re, which can be used to work with Regular Expressions.\n",
    "\n",
    "# Import the re module:"
   ]
  },
  {
   "cell_type": "code",
   "execution_count": 40,
   "id": "49af14be",
   "metadata": {},
   "outputs": [
    {
     "data": {
      "text/plain": [
       "'hello  my name is  govind'"
      ]
     },
     "execution_count": 40,
     "metadata": {},
     "output_type": "execute_result"
    }
   ],
   "source": [
    "input = \"hello@ my name is #govind\"\n",
    "cleaned_text =re.sub(r\"[^a-zA-Z0-9]\", \" \", input)\n",
    "cleaned_text"
   ]
  },
  {
   "cell_type": "code",
   "execution_count": 41,
   "id": "1e28950d",
   "metadata": {},
   "outputs": [
    {
     "data": {
      "text/plain": [
       "'hello  my name is  govind9166780327'"
      ]
     },
     "execution_count": 41,
     "metadata": {},
     "output_type": "execute_result"
    }
   ],
   "source": [
    "input = \"hello@ my name is #govind9166780327\"\n",
    "cleaned_text =re.sub(r\"[^a-zA-Z0-9]\", \" \", input)\n",
    "cleaned_text"
   ]
  },
  {
   "cell_type": "code",
   "execution_count": 42,
   "id": "8906ed92",
   "metadata": {},
   "outputs": [
    {
     "data": {
      "text/plain": [
       "'hello  my name is  govind          '"
      ]
     },
     "execution_count": 42,
     "metadata": {},
     "output_type": "execute_result"
    }
   ],
   "source": [
    "input = \"hello@ my name is #govind9166780327\"\n",
    "cleaned_text =re.sub(r\"[^a-zA-Z]\", \" \", input)\n",
    "cleaned_text"
   ]
  },
  {
   "cell_type": "markdown",
   "id": "c594965e",
   "metadata": {},
   "source": [
    "## Handling contractions\n",
    "### I`m = i am\n",
    "\n",
    "### i`m going"
   ]
  },
  {
   "cell_type": "code",
   "execution_count": 43,
   "id": "36c0c86a",
   "metadata": {},
   "outputs": [
    {
     "name": "stdout",
     "output_type": "stream",
     "text": [
      "i`m going\n"
     ]
    }
   ],
   "source": [
    "import contractions\n",
    "text =\"i`m going\"\n",
    "expanded_text=contractions.fix(text)\n",
    "print(expanded_text)"
   ]
  },
  {
   "cell_type": "code",
   "execution_count": 44,
   "id": "e9b27554",
   "metadata": {},
   "outputs": [
    {
     "name": "stdout",
     "output_type": "stream",
     "text": [
      "i am going\n"
     ]
    }
   ],
   "source": [
    "text =\"i'm going\"\n",
    "expanded_text=contractions.fix(text)\n",
    "print(expanded_text)"
   ]
  },
  {
   "cell_type": "code",
   "execution_count": 45,
   "id": "ae94dfc1",
   "metadata": {},
   "outputs": [],
   "source": [
    "\n",
    "import nltk"
   ]
  },
  {
   "cell_type": "code",
   "execution_count": 46,
   "id": "9f41cdbf",
   "metadata": {},
   "outputs": [
    {
     "name": "stderr",
     "output_type": "stream",
     "text": [
      "[nltk_data] Downloading package punkt to\n",
      "[nltk_data]     C:\\Users\\heman\\AppData\\Roaming\\nltk_data...\n",
      "[nltk_data]   Package punkt is already up-to-date!\n"
     ]
    },
    {
     "data": {
      "text/plain": [
       "True"
      ]
     },
     "execution_count": 46,
     "metadata": {},
     "output_type": "execute_result"
    }
   ],
   "source": [
    "\n",
    "nltk.download('punkt')"
   ]
  },
  {
   "cell_type": "code",
   "execution_count": 47,
   "id": "c88b8ec7",
   "metadata": {},
   "outputs": [
    {
     "name": "stdout",
     "output_type": "stream",
     "text": [
      "['hello', '@', 'my', 'name', 'is', '#', 'govind']\n",
      "hello my name is govind\n"
     ]
    }
   ],
   "source": [
    "\n",
    "input = \"hello@ my name is #govind\"\n",
    "tokens =nltk.word_tokenize(input)\n",
    "print(tokens)\n",
    "\n",
    "clean_text =[token for token in tokens if token.isalnum()]  \n",
    "cleaned_text=' '.join(clean_text)\n",
    "print(cleaned_text)"
   ]
  },
  {
   "cell_type": "code",
   "execution_count": 48,
   "id": "f1d2a70b",
   "metadata": {},
   "outputs": [
    {
     "data": {
      "text/plain": [
       "'Ram is https://pypi.org/project/nltk/ shayam'"
      ]
     },
     "execution_count": 48,
     "metadata": {},
     "output_type": "execute_result"
    }
   ],
   "source": [
    "sentence = \"Ram is https://pypi.org/project/nltk/ shayam\" ## remove html tags and Ram is Shayam\n",
    "import re \n",
    "re.sub(r\"<.*?>\", \" \", sentence)"
   ]
  },
  {
   "cell_type": "code",
   "execution_count": 49,
   "id": "abc7c015",
   "metadata": {},
   "outputs": [
    {
     "data": {
      "text/plain": [
       "'Ram is  shayam'"
      ]
     },
     "execution_count": 49,
     "metadata": {},
     "output_type": "execute_result"
    }
   ],
   "source": [
    "\n",
    "sentence = \"Ram is https://pypi.org/project/nltk/ shayam\" ## remove html tags and Ram is Shayam\n",
    "import re \n",
    "re.sub(r'https?://\\S+|www\\.\\S+', '', sentence)"
   ]
  },
  {
   "cell_type": "code",
   "execution_count": 50,
   "id": "ebc73140",
   "metadata": {},
   "outputs": [],
   "source": [
    "chat_word_dict = {\n",
    "    \"u\": \"you\",\n",
    "    \"r\": \"are\",\n",
    "    \"b4\": \"before\",\n",
    "    \"gr8\": \"great\",\n",
    "    \"l8r\": \"later\",\n",
    "    \"idk\": \"I don’t know\",\n",
    "    \"btw\": \"by the way\",\n",
    "    \"imo\": \"in my opinion\",\n",
    "    \"ttyl\": \"talk to you later\",\n",
    "    \"brb\": \"be right back\",\n",
    "    \"wanna\": \"want to\",\n",
    "    \"gonna\": \"going to\",\n",
    "    \"lemme\": \"let me\",\n",
    "    \"dunno\": \"don’t know\",\n",
    "    \"thx\": \"thanks\",\n",
    "    \"pls\": \"please\",\n",
    "    \"ppl\": \"people\",\n",
    "    \"smh\": \"shaking my head\",\n",
    "    \"tbh\": \"to be honest\",\n",
    "    \"omg\": \"oh my god\",\n",
    "    \"lol\": \"laugh out loud\",\n",
    "    \"rofl\": \"rolling on the floor laughing\",\n",
    "    \"afk\": \"away from keyboard\",\n",
    "    \"np\": \"no problem\",\n",
    "    \"gtg\": \"got to go\",\n",
    "    \"jk\": \"just kidding\",\n",
    "    \"hbu\": \"how about you\",\n",
    "    \"ily\": \"I love you\",\n",
    "    \"ttys\": \"talk to you soon\"\n",
    "}\n"
   ]
  },
  {
   "cell_type": "code",
   "execution_count": 51,
   "id": "1d890916",
   "metadata": {},
   "outputs": [],
   "source": [
    "chat_text = \"omg idk what u r talking about lol\"\n",
    "def normalize_text(chat_text):\n",
    "    words =chat_text.split()\n",
    "    normalized_words=[chat_word_dict.get(word.lower(), word) for word in words]\n",
    "    return \" \".join(normalized_words)"
   ]
  },
  {
   "cell_type": "code",
   "execution_count": 52,
   "id": "9c235ebe",
   "metadata": {},
   "outputs": [
    {
     "data": {
      "text/plain": [
       "'oh my god I don’t know what you are talking about laugh out loud'"
      ]
     },
     "execution_count": 52,
     "metadata": {},
     "output_type": "execute_result"
    }
   ],
   "source": [
    "\n",
    "normalized_text=normalize_text(chat_text = \"omg idk what u r talking about lol\")\n",
    "\n",
    "normalized_text"
   ]
  },
  {
   "cell_type": "code",
   "execution_count": 70,
   "id": "59af7cd0",
   "metadata": {},
   "outputs": [
    {
     "name": "stdout",
     "output_type": "stream",
     "text": [
      "you are coming \n"
     ]
    }
   ],
   "source": [
    "from textblob import TextBlob\n",
    "text = \"youuu aree cominng \"\n",
    "spelling_correct=TextBlob(text).correct()\n",
    "\n",
    "print(spelling_correct) "
   ]
  },
  {
   "cell_type": "markdown",
   "id": "79d2e6fa",
   "metadata": {},
   "source": [
    "## speech to text\n"
   ]
  },
  {
   "cell_type": "code",
   "execution_count": 71,
   "id": "434b0d1e",
   "metadata": {},
   "outputs": [],
   "source": [
    "# Speech to text(stt)\n",
    "# pip install SpeechRecognition\n",
    "# pip install pyaudio"
   ]
  },
  {
   "cell_type": "code",
   "execution_count": 75,
   "id": "bc19c3e6",
   "metadata": {},
   "outputs": [
    {
     "name": "stdout",
     "output_type": "stream",
     "text": [
      "speak now\n",
      "you said: my name is Keshav Saini\n"
     ]
    }
   ],
   "source": [
    "import speech_recognition as sr\n",
    "recognizer=sr.Recognizer()\n",
    "with sr.Microphone() as source:\n",
    "    print(\"speak now\")\n",
    "    audio =recognizer.listen(source)\n",
    "try:\n",
    "    text = recognizer.recognize_google(audio)\n",
    "    print(\"you said:\",text)\n",
    "except:\n",
    "    print(\"Sorry could not recognize your voice\")"
   ]
  },
  {
   "cell_type": "markdown",
   "id": "e9a19757",
   "metadata": {},
   "source": [
    "## text to speech"
   ]
  },
  {
   "cell_type": "code",
   "execution_count": 78,
   "id": "4f5e7bdd",
   "metadata": {},
   "outputs": [
    {
     "data": {
      "text/plain": [
       "0"
      ]
     },
     "execution_count": 78,
     "metadata": {},
     "output_type": "execute_result"
    }
   ],
   "source": [
    "# Text to speech(tts)\n",
    "# pip install gtts\n",
    "\n",
    "from gtts import gTTS\n",
    "import os\n",
    "text  = \"Jaana Tu Aata Nahi Sapno Se Jaata Nahi Mil Jaye Kya Hi Baat Thi Kaamil Ho Jaata Wahin\"\n",
    "tts=gTTS(text = text , lang=\"en\")\n",
    "tts.save(\"welcome.mp3\")\n",
    "os.system(\"welcome.mp3\")"
   ]
  },
  {
   "cell_type": "code",
   "execution_count": null,
   "id": "d3965b9a",
   "metadata": {},
   "outputs": [],
   "source": []
  }
 ],
 "metadata": {
  "kernelspec": {
   "display_name": "Python 3",
   "language": "python",
   "name": "python3"
  },
  "language_info": {
   "codemirror_mode": {
    "name": "ipython",
    "version": 3
   },
   "file_extension": ".py",
   "mimetype": "text/x-python",
   "name": "python",
   "nbconvert_exporter": "python",
   "pygments_lexer": "ipython3",
   "version": "3.11.5"
  }
 },
 "nbformat": 4,
 "nbformat_minor": 5
}
