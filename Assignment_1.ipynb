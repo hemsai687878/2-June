{
 "cells": [
  {
   "cell_type": "markdown",
   "id": "48d374e6-fa06-463c-a69e-6063d66de0cc",
   "metadata": {},
   "source": [
    "1. A class is a template; an object is an actual thing created from that template. The class defines the structure, and the object uses it."
   ]
  },
  {
   "cell_type": "code",
   "execution_count": 5,
   "id": "06ef2c7f-7529-4ce0-92af-c34a64d131a4",
   "metadata": {},
   "outputs": [
    {
     "name": "stdout",
     "output_type": "stream",
     "text": [
      "Atomic Habits\n",
      "James Clear\n",
      "2018\n"
     ]
    }
   ],
   "source": [
    "class Book:\n",
    "    def __init__(self, title, author, year_published):\n",
    "        self.title = title\n",
    "        self.author = author\n",
    "        self.year_published = year_published\n",
    "\n",
    "book1 = Book(\"Atomic Habits\", \"James Clear\", 2018)\n",
    "\n",
    "print(book1.title)\n",
    "print(book1.author)\n",
    "print(book1.year_published)"
   ]
  },
  {
   "cell_type": "markdown",
   "id": "2b1a853a-f02e-43cb-80f1-96d116bdcdcd",
   "metadata": {},
   "source": [
    "2. Inheritance means one class (child) can use the features of another class (parent). It helps reuse code instead of writing it again. But if not used properly, it can make the code confusing or hard to manage."
   ]
  },
  {
   "cell_type": "code",
   "execution_count": 7,
   "id": "c61a8694-2d8a-4861-8bdc-c4e024079936",
   "metadata": {},
   "outputs": [
    {
     "name": "stdout",
     "output_type": "stream",
     "text": [
      "The car is driving on the road\n",
      "The bike is speeding through traffic\n"
     ]
    }
   ],
   "source": [
    "class Vehicle:\n",
    "    def move(self):\n",
    "        print(\"The vehicle is moving\")\n",
    "\n",
    "class Car(Vehicle):\n",
    "    def move(self):\n",
    "        print(\"The car is driving on the road\")\n",
    "\n",
    "class Bike(Vehicle):\n",
    "    def move(self):\n",
    "        print(\"The bike is speeding through traffic\")\n",
    "\n",
    "car1 = Car()\n",
    "bike1 = Bike()\n",
    "\n",
    "car1.move()\n",
    "bike1.move()"
   ]
  },
  {
   "cell_type": "markdown",
   "id": "c6b14e20-abcb-4a0a-b860-9ce4cbe4d275",
   "metadata": {},
   "source": [
    "3. Polymorphism means using the same method name in different classes, but with different behavior. In Python, it’s mainly done through method overriding. Method overloading isn't directly supported, but we can use default arguments to handle it."
   ]
  },
  {
   "cell_type": "code",
   "execution_count": 9,
   "id": "082212ba-53c3-4807-a0c7-ddd7c5e27111",
   "metadata": {},
   "outputs": [
    {
     "name": "stdout",
     "output_type": "stream",
     "text": [
      "The boat is sailing on water\n",
      "The airplane is flying in the sky\n"
     ]
    }
   ],
   "source": [
    "class Boat:\n",
    "    def move(self):\n",
    "        print(\"The boat is sailing on water\")\n",
    "\n",
    "class Airplane:\n",
    "    def move(self):\n",
    "        print(\"The airplane is flying in the sky\")\n",
    "\n",
    "def move_vehicle(vehicle):\n",
    "    vehicle.move()\n",
    "\n",
    "boat1 = Boat()\n",
    "plane1 = Airplane()\n",
    "\n",
    "move_vehicle(boat1)\n",
    "move_vehicle(plane1)"
   ]
  },
  {
   "cell_type": "markdown",
   "id": "14a2a0e6-1b4b-4a49-8dab-9160c2e19982",
   "metadata": {},
   "source": [
    "4. Class methods vs Static methods vs Instance methods:\n",
    "Instance methods use **self** and work with object data. Class methods use **cls** and work with the class itself. Static methods don’t use **self** or **cls**. They’re like regular functions inside a class."
   ]
  },
  {
   "cell_type": "code",
   "execution_count": 11,
   "id": "710d53a6-7a81-4462-bad1-e417a7ed288d",
   "metadata": {},
   "outputs": [
    {
     "name": "stdout",
     "output_type": "stream",
     "text": [
      "20\n",
      "21\n"
     ]
    }
   ],
   "source": [
    "class Calculator:\n",
    "    @staticmethod\n",
    "    def multiply(a, b):\n",
    "        return a * b\n",
    "\n",
    "    @classmethod\n",
    "    def from_values(cls, values):\n",
    "        return cls.multiply(values[0], values[1])\n",
    "\n",
    "print(Calculator.multiply(4, 5))\n",
    "\n",
    "print(Calculator.from_values([3, 7]))"
   ]
  },
  {
   "cell_type": "markdown",
   "id": "dd7c9800-a683-4cbd-9379-eeb6f28e8953",
   "metadata": {},
   "source": [
    "5. Encapsulation means keeping data safe inside a class. Python uses: Public: accessible from anywhere Protected (_): should be used only inside the class or subclasses Private (__): can’t be accessed directly from outside"
   ]
  },
  {
   "cell_type": "code",
   "execution_count": 13,
   "id": "c6fc1e3b-7b1f-41af-9115-b8cea385fec0",
   "metadata": {},
   "outputs": [
    {
     "name": "stdout",
     "output_type": "stream",
     "text": [
      "Name: Tejas, Age: 21\n"
     ]
    }
   ],
   "source": [
    "class Person:\n",
    "    def __init__(self):\n",
    "        self.__name = None\n",
    "        self.__age = None\n",
    "\n",
    "    def set_details(self, name, age):\n",
    "        self.__name = name\n",
    "        self.__age = age\n",
    "\n",
    "    def get_details(self):\n",
    "        return f\"Name: {self.__name}, Age: {self.__age}\"\n",
    "\n",
    "p1 = Person()\n",
    "p1.set_details(\"Tejas\", 21)\n",
    "print(p1.get_details())"
   ]
  },
  {
   "cell_type": "raw",
   "id": "f8641d92-ad6d-476f-804e-99aa51e00959",
   "metadata": {},
   "source": [
    "print(p1.__name)\n",
    "\n",
    "AttributeError Traceback (most recent call last) Cell In[49], line 1 ----> 1 print(p1.__name)\n",
    "\n",
    "AttributeError: 'Person' object has no attribute '__name'"
   ]
  },
  {
   "cell_type": "raw",
   "id": "e8c963c2-1dd7-465a-89db-09af6a6c4b10",
   "metadata": {},
   "source": [
    "6. The __init__ method runs automatically when we create an object.\n",
    "It’s used to set up initial values. Unlike other methods, we don’t call it manually—it gets called when the object is made."
   ]
  },
  {
   "cell_type": "code",
   "execution_count": 21,
   "id": "959e85c9-3368-44e0-9f62-00885f3a2cd4",
   "metadata": {},
   "outputs": [
    {
     "name": "stdout",
     "output_type": "stream",
     "text": [
      "Product: Headphones, Price: ₹1500\n"
     ]
    }
   ],
   "source": [
    "class Product:\n",
    "    def __init__(self, name, price):\n",
    "        self.name = name\n",
    "        self.price = price\n",
    "\n",
    "    def show_details(self):\n",
    "        print(f\"Product: {self.name}, Price: ₹{self.price}\")\n",
    "\n",
    "p1 = Product(\"Headphones\", 1500)\n",
    "p1.show_details()"
   ]
  },
  {
   "cell_type": "markdown",
   "id": "aa7ed800-7b40-450f-b979-df61c1c66958",
   "metadata": {},
   "source": [
    "7. Python allows a class to inherit from multiple classes. When there’s a conflict (like two parent classes having the same method), Method Resolution Order (MRO) decides which method runs first. Python uses C3 linearization to follow a consistent order."
   ]
  },
  {
   "cell_type": "code",
   "execution_count": 24,
   "id": "0e3f44ce-8667-4f22-8a71-77f277f778f9",
   "metadata": {},
   "outputs": [
    {
     "name": "stdout",
     "output_type": "stream",
     "text": [
      "SmartFridge is starting...\n",
      "Appliance is running\n"
     ]
    }
   ],
   "source": [
    "class Appliance:\n",
    "    def operate(self):\n",
    "        print(\"Appliance is running\")\n",
    "\n",
    "class Electronic:\n",
    "    def operate(self):\n",
    "        print(\"Electronic device is working\")\n",
    "\n",
    "class SmartFridge(Appliance, Electronic):\n",
    "    def operate(self):\n",
    "        print(\"SmartFridge is starting...\")\n",
    "        super().operate()  # follows MRO\n",
    "\n",
    "sf = SmartFridge()\n",
    "sf.operate()"
   ]
  },
  {
   "cell_type": "markdown",
   "id": "a736301c-d769-4684-941d-f3ade58d3d9a",
   "metadata": {},
   "source": [
    "8. Special methods like **init**, **str**, **eq**, etc., let us customize how objects behave with built-in operations (like ==, <, print() etc.). They start and end with double underscores."
   ]
  },
  {
   "cell_type": "code",
   "execution_count": 28,
   "id": "3b498586-5f91-4977-9068-4731a120b05d",
   "metadata": {},
   "outputs": [
    {
     "name": "stdout",
     "output_type": "stream",
     "text": [
      "True\n",
      "True\n"
     ]
    }
   ],
   "source": [
    "class Book:\n",
    "    def __init__(self, title, year_published):\n",
    "        self.title = title\n",
    "        self.year_published = year_published\n",
    "\n",
    "    def __eq__(self, other):\n",
    "        return self.year_published == other.year_published\n",
    "\n",
    "    def __lt__(self, other):\n",
    "        return self.year_published < other.year_published\n",
    "\n",
    "book1 = Book(\"Book A\", 2010)\n",
    "book2 = Book(\"Book B\", 2015)\n",
    "book3 = Book(\"Book C\", 2010)\n",
    "\n",
    "print(book1 == book3)  # True\n",
    "print(book1 < book2)   # True"
   ]
  },
  {
   "cell_type": "markdown",
   "id": "2689f657-8444-43dd-959e-1bea62abbf9a",
   "metadata": {},
   "source": [
    "9. Inheritance means “is-a” relationship (a Car is a Vehicle). Composition means “has-a” relationship (a Truck has an Engine).\n",
    "\n",
    "Use composition when you want to build complex objects by combining simpler ones, especially if the relationship is more about ownership than type."
   ]
  },
  {
   "cell_type": "code",
   "execution_count": 31,
   "id": "9a2bd5d8-2b75-4cb5-a786-1f32ea8a06f1",
   "metadata": {},
   "outputs": [
    {
     "name": "stdout",
     "output_type": "stream",
     "text": [
      "Engine started\n",
      "Truck is ready to go\n"
     ]
    }
   ],
   "source": [
    "class Engine:\n",
    "    def start(self):\n",
    "        print(\"Engine started\")\n",
    "\n",
    "class Truck:\n",
    "    def __init__(self):\n",
    "        self.engine = Engine()  # Truck has an Engine\n",
    "\n",
    "    def start_truck(self):\n",
    "        self.engine.start()\n",
    "        print(\"Truck is ready to go\")\n",
    "\n",
    "t = Truck()\n",
    "t.start_truck()"
   ]
  },
  {
   "cell_type": "markdown",
   "id": "5df646ee-2837-4449-92dc-586ae4c9c22a",
   "metadata": {},
   "source": [
    "10. **@property** lets you access methods like attributes. It helps control how attributes are read or modified, supporting encapsulation by hiding internal details."
   ]
  },
  {
   "cell_type": "code",
   "execution_count": 35,
   "id": "955aa4a0-dbd2-47f2-bd59-f11978cb1b38",
   "metadata": {},
   "outputs": [
    {
     "name": "stdout",
     "output_type": "stream",
     "text": [
      "Diameter: 10\n",
      "Area: 78.53981633974483\n"
     ]
    }
   ],
   "source": [
    "import math\n",
    "\n",
    "class Circle:\n",
    "    def __init__(self, radius):\n",
    "        self.radius = radius\n",
    "\n",
    "    @property\n",
    "    def diameter(self):\n",
    "        return self.radius * 2\n",
    "\n",
    "    @property\n",
    "    def area(self):\n",
    "        return math.pi * (self.radius ** 2)\n",
    "\n",
    "c = Circle(5)\n",
    "print(\"Diameter:\", c.diameter)\n",
    "print(\"Area:\", c.area)"
   ]
  },
  {
   "cell_type": "code",
   "execution_count": null,
   "id": "f3476d24-208e-47fa-9f0e-27131d70cc59",
   "metadata": {},
   "outputs": [],
   "source": []
  }
 ],
 "metadata": {
  "kernelspec": {
   "display_name": "Python 3 (ipykernel)",
   "language": "python",
   "name": "python3"
  },
  "language_info": {
   "codemirror_mode": {
    "name": "ipython",
    "version": 3
   },
   "file_extension": ".py",
   "mimetype": "text/x-python",
   "name": "python",
   "nbconvert_exporter": "python",
   "pygments_lexer": "ipython3",
   "version": "3.12.4"
  }
 },
 "nbformat": 4,
 "nbformat_minor": 5
}
